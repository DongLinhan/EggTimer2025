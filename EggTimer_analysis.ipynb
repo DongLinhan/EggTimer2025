{
 "cells": [
  {
   "cell_type": "markdown",
   "id": "0a63d80b-3352-492d-a37a-1dd5a48a248d",
   "metadata": {},
   "source": [
    "### Select ROIs from raw image data folder"
   ]
  },
  {
   "cell_type": "code",
   "execution_count": 1,
   "id": "c0bee059-6de2-4b22-90d0-a579a322e550",
   "metadata": {},
   "outputs": [
    {
     "name": "stdout",
     "output_type": "stream",
     "text": [
      "Start selecting ROIs one by one. Press Enter when done with each selection. Press Esc when done selecting.\n",
      "Select ROI 1 on the image. Press Enter to confirm.\n",
      "Select ROI 2 on the image. Press Enter to confirm.\n",
      "Select ROI 3 on the image. Press Enter to confirm.\n",
      "Select ROI 4 on the image. Press Enter to confirm.\n",
      "Select ROI 5 on the image. Press Enter to confirm.\n",
      "Select ROI 6 on the image. Press Enter to confirm.\n",
      "Select ROI 7 on the image. Press Enter to confirm.\n",
      "Select ROI 8 on the image. Press Enter to confirm.\n",
      "Select ROI 9 on the image. Press Enter to confirm.\n",
      "Select ROI 10 on the image. Press Enter to confirm.\n",
      "Select ROI 11 on the image. Press Enter to confirm.\n",
      "Select ROI 12 on the image. Press Enter to confirm.\n",
      "Select ROI 13 on the image. Press Enter to confirm.\n",
      "Select ROI 14 on the image. Press Enter to confirm.\n",
      "Select ROI 15 on the image. Press Enter to confirm.\n",
      "Select ROI 16 on the image. Press Enter to confirm.\n",
      "Select ROI 17 on the image. Press Enter to confirm.\n",
      "Select ROI 18 on the image. Press Enter to confirm.\n",
      "Select ROI 19 on the image. Press Enter to confirm.\n",
      "Select ROI 20 on the image. Press Enter to confirm.\n",
      "Select ROI 21 on the image. Press Enter to confirm.\n",
      "Select ROI 22 on the image. Press Enter to confirm.\n",
      "Select ROI 23 on the image. Press Enter to confirm.\n",
      "Select ROI 24 on the image. Press Enter to confirm.\n",
      "Select ROI 25 on the image. Press Enter to confirm.\n",
      "24 ROIs selected. Processing images...\n",
      "Processing complete. Cropped images are saved in subfolders inside /Users/donglinhan/LargeFiles/oviposition/ET101.\n"
     ]
    }
   ],
   "source": [
    "import cv2\n",
    "import os\n",
    "\n",
    "def select_single_roi(image, roi_index):\n",
    "    print(f\"Select ROI {roi_index} on the image. Press Enter to confirm.\")\n",
    "    roi = cv2.selectROI(f\"Select ROI {roi_index}\", image, showCrosshair=True, fromCenter=False)\n",
    "    cv2.destroyAllWindows()\n",
    "    return roi\n",
    "\n",
    "def create_output_dirs(base_dir, num_rois):\n",
    "    output_dirs = []\n",
    "    for i in range(num_rois):\n",
    "        roi_dir = os.path.join(base_dir, f\"ROI_{i+1}\")\n",
    "        os.makedirs(roi_dir, exist_ok=True)\n",
    "        output_dirs.append(roi_dir)\n",
    "    return output_dirs\n",
    "\n",
    "def process_images(folder):\n",
    "    input_folder = folder\n",
    "    if not os.path.isdir(input_folder):\n",
    "        print(\"Invalid folder path. Exiting.\")\n",
    "        return\n",
    "    image_files = sorted([f for f in os.listdir(input_folder) if f.lower().endswith('.jpg')])\n",
    "    if not image_files:\n",
    "        print(\"No image files found in the folder. Exiting.\")\n",
    "        return\n",
    "    first_image_path = os.path.join(input_folder, image_files[0])\n",
    "    first_image = cv2.imread(first_image_path)\n",
    "    if first_image is None:\n",
    "        print(f\"Could not read the first image: {first_image_path}. Exiting.\")\n",
    "        return\n",
    "\n",
    "    rois = []\n",
    "    print(\"Start selecting ROIs one by one. Press Enter when done with each selection. Press Esc when done selecting.\")\n",
    "    while True:\n",
    "        roi_index = len(rois) + 1\n",
    "        roi = select_single_roi(first_image, roi_index)\n",
    "        if roi == (0, 0, 0, 0):  # If no ROI is selected\n",
    "            break\n",
    "        rois.append(roi)\n",
    "\n",
    "    if len(rois) == 0:\n",
    "        print(\"No ROIs selected. Exiting.\")\n",
    "        return\n",
    "\n",
    "    print(f\"{len(rois)} ROIs selected. Processing images...\")\n",
    "\n",
    "    output_dirs = create_output_dirs(input_folder, len(rois))\n",
    "\n",
    "    for img_file in image_files:\n",
    "        img_path = os.path.join(input_folder, img_file)\n",
    "        image = cv2.imread(img_path)\n",
    "        if image is None:\n",
    "            print(f\"Could not read image: {img_path}. Skipping.\")\n",
    "            continue\n",
    "\n",
    "        for i, roi in enumerate(rois):\n",
    "            x, y, w, h = roi\n",
    "            cropped = image[y:y+h, x:x+w]\n",
    "            save_path = os.path.join(output_dirs[i], img_file)\n",
    "            cv2.imwrite(save_path, cropped)\n",
    "\n",
    "    print(f\"Processing complete. Cropped images are saved in subfolders inside {input_folder}.\")\n",
    "\n",
    "\n",
    "\n",
    "input_folder = \"/Users/donglinhan/LargeFiles/oviposition/ET101\"\n",
    "if __name__ == \"__main__\":\n",
    "    process_images(input_folder)"
   ]
  },
  {
   "cell_type": "code",
   "execution_count": 2,
   "id": "d879f710-705c-46f2-bc91-e786c1934169",
   "metadata": {},
   "outputs": [
    {
     "name": "stdout",
     "output_type": "stream",
     "text": [
      "Analyzing folder: /Users/donglinhan/LargeFiles/oviposition/ET101/ROI_1\n"
     ]
    },
    {
     "name": "stderr",
     "output_type": "stream",
     "text": [
      "Loading Images: 100%|█████████████████████| 3219/3219 [00:00<00:00, 5392.62it/s]\n",
      "Processing Rows: 100%|████████████████████████| 24/24 [00:00<00:00, 5272.54it/s]\n"
     ]
    },
    {
     "name": "stdout",
     "output_type": "stream",
     "text": [
      "Analyzing folder: /Users/donglinhan/LargeFiles/oviposition/ET101/ROI_2\n"
     ]
    },
    {
     "name": "stderr",
     "output_type": "stream",
     "text": [
      "Loading Images: 100%|█████████████████████| 3219/3219 [00:00<00:00, 7157.23it/s]\n",
      "Processing Rows: 100%|████████████████████████| 41/41 [00:00<00:00, 3406.15it/s]\n"
     ]
    },
    {
     "name": "stdout",
     "output_type": "stream",
     "text": [
      "Analyzing folder: /Users/donglinhan/LargeFiles/oviposition/ET101/ROI_3\n"
     ]
    },
    {
     "name": "stderr",
     "output_type": "stream",
     "text": [
      "Loading Images: 100%|█████████████████████| 3219/3219 [00:00<00:00, 7541.71it/s]\n",
      "Processing Rows: 100%|████████████████████████| 34/34 [00:00<00:00, 4418.48it/s]\n"
     ]
    },
    {
     "name": "stdout",
     "output_type": "stream",
     "text": [
      "Analyzing folder: /Users/donglinhan/LargeFiles/oviposition/ET101/ROI_4\n"
     ]
    },
    {
     "name": "stderr",
     "output_type": "stream",
     "text": [
      "Loading Images: 100%|█████████████████████| 3219/3219 [00:00<00:00, 7757.22it/s]\n",
      "Processing Rows: 100%|████████████████████████| 33/33 [00:00<00:00, 4146.80it/s]\n"
     ]
    },
    {
     "name": "stdout",
     "output_type": "stream",
     "text": [
      "Analyzing folder: /Users/donglinhan/LargeFiles/oviposition/ET101/ROI_5\n"
     ]
    },
    {
     "name": "stderr",
     "output_type": "stream",
     "text": [
      "Loading Images: 100%|█████████████████████| 3219/3219 [00:00<00:00, 7783.63it/s]\n",
      "Processing Rows: 100%|████████████████████████| 40/40 [00:00<00:00, 2881.25it/s]\n"
     ]
    },
    {
     "name": "stdout",
     "output_type": "stream",
     "text": [
      "Analyzing folder: /Users/donglinhan/LargeFiles/oviposition/ET101/ROI_6\n"
     ]
    },
    {
     "name": "stderr",
     "output_type": "stream",
     "text": [
      "Loading Images: 100%|█████████████████████| 3219/3219 [00:00<00:00, 7745.28it/s]\n",
      "Processing Rows: 100%|████████████████████████| 31/31 [00:00<00:00, 3586.66it/s]\n"
     ]
    },
    {
     "name": "stdout",
     "output_type": "stream",
     "text": [
      "Analyzing folder: /Users/donglinhan/LargeFiles/oviposition/ET101/ROI_7\n"
     ]
    },
    {
     "name": "stderr",
     "output_type": "stream",
     "text": [
      "Loading Images: 100%|█████████████████████| 3219/3219 [00:02<00:00, 1330.13it/s]\n",
      "Processing Rows: 100%|████████████████████████| 462/462 [00:24<00:00, 18.77it/s]\n"
     ]
    },
    {
     "name": "stdout",
     "output_type": "stream",
     "text": [
      "Analyzing folder: /Users/donglinhan/LargeFiles/oviposition/ET101/ROI_8\n"
     ]
    },
    {
     "name": "stderr",
     "output_type": "stream",
     "text": [
      "Loading Images: 100%|█████████████████████| 3219/3219 [00:00<00:00, 7292.46it/s]\n",
      "Processing Rows: 100%|████████████████████████| 28/28 [00:00<00:00, 4687.68it/s]\n"
     ]
    },
    {
     "name": "stdout",
     "output_type": "stream",
     "text": [
      "Analyzing folder: /Users/donglinhan/LargeFiles/oviposition/ET101/ROI_9\n"
     ]
    },
    {
     "name": "stderr",
     "output_type": "stream",
     "text": [
      "Loading Images: 100%|█████████████████████| 3219/3219 [00:00<00:00, 7594.65it/s]\n",
      "Processing Rows: 100%|████████████████████████| 32/32 [00:00<00:00, 4776.09it/s]\n"
     ]
    },
    {
     "name": "stdout",
     "output_type": "stream",
     "text": [
      "Analyzing folder: /Users/donglinhan/LargeFiles/oviposition/ET101/ROI_10\n"
     ]
    },
    {
     "name": "stderr",
     "output_type": "stream",
     "text": [
      "Loading Images: 100%|█████████████████████| 3219/3219 [00:02<00:00, 1311.55it/s]\n",
      "Processing Rows: 100%|████████████████████████| 464/464 [01:46<00:00,  4.35it/s]\n"
     ]
    },
    {
     "name": "stdout",
     "output_type": "stream",
     "text": [
      "Analyzing folder: /Users/donglinhan/LargeFiles/oviposition/ET101/ROI_11\n"
     ]
    },
    {
     "name": "stderr",
     "output_type": "stream",
     "text": [
      "Loading Images: 100%|█████████████████████| 3219/3219 [00:00<00:00, 7102.89it/s]\n",
      "Processing Rows: 100%|████████████████████████| 36/36 [00:00<00:00, 2476.59it/s]\n"
     ]
    },
    {
     "name": "stdout",
     "output_type": "stream",
     "text": [
      "Analyzing folder: /Users/donglinhan/LargeFiles/oviposition/ET101/ROI_12\n"
     ]
    },
    {
     "name": "stderr",
     "output_type": "stream",
     "text": [
      "Loading Images: 100%|█████████████████████| 3219/3219 [00:00<00:00, 7732.50it/s]\n",
      "Processing Rows: 100%|██████████████████████████| 25/25 [00:01<00:00, 15.55it/s]\n"
     ]
    },
    {
     "name": "stdout",
     "output_type": "stream",
     "text": [
      "Analyzing folder: /Users/donglinhan/LargeFiles/oviposition/ET101/ROI_13\n"
     ]
    },
    {
     "name": "stderr",
     "output_type": "stream",
     "text": [
      "Loading Images: 100%|█████████████████████| 3219/3219 [00:02<00:00, 1376.66it/s]\n",
      "Processing Rows: 100%|████████████████████████| 440/440 [01:59<00:00,  3.67it/s]\n"
     ]
    },
    {
     "name": "stdout",
     "output_type": "stream",
     "text": [
      "Analyzing folder: /Users/donglinhan/LargeFiles/oviposition/ET101/ROI_14\n"
     ]
    },
    {
     "name": "stderr",
     "output_type": "stream",
     "text": [
      "Loading Images: 100%|█████████████████████| 3219/3219 [00:02<00:00, 1232.61it/s]\n",
      "Processing Rows: 100%|████████████████████████| 438/438 [00:52<00:00,  8.27it/s]\n"
     ]
    },
    {
     "name": "stdout",
     "output_type": "stream",
     "text": [
      "Analyzing folder: /Users/donglinhan/LargeFiles/oviposition/ET101/ROI_15\n"
     ]
    },
    {
     "name": "stderr",
     "output_type": "stream",
     "text": [
      "Loading Images: 100%|█████████████████████| 3219/3219 [00:03<00:00, 1047.38it/s]\n",
      "Processing Rows: 100%|████████████████████████| 423/423 [01:20<00:00,  5.25it/s]\n"
     ]
    },
    {
     "name": "stdout",
     "output_type": "stream",
     "text": [
      "Analyzing folder: /Users/donglinhan/LargeFiles/oviposition/ET101/ROI_16\n"
     ]
    },
    {
     "name": "stderr",
     "output_type": "stream",
     "text": [
      "Loading Images: 100%|█████████████████████| 3219/3219 [00:00<00:00, 5830.71it/s]\n",
      "Processing Rows: 100%|████████████████████████| 28/28 [00:00<00:00, 3325.51it/s]\n"
     ]
    },
    {
     "name": "stdout",
     "output_type": "stream",
     "text": [
      "Analyzing folder: /Users/donglinhan/LargeFiles/oviposition/ET101/ROI_17\n"
     ]
    },
    {
     "name": "stderr",
     "output_type": "stream",
     "text": [
      "Loading Images: 100%|█████████████████████| 3219/3219 [00:02<00:00, 1306.18it/s]\n",
      "Processing Rows: 100%|████████████████████████| 453/453 [01:38<00:00,  4.59it/s]\n"
     ]
    },
    {
     "name": "stdout",
     "output_type": "stream",
     "text": [
      "Analyzing folder: /Users/donglinhan/LargeFiles/oviposition/ET101/ROI_18\n"
     ]
    },
    {
     "name": "stderr",
     "output_type": "stream",
     "text": [
      "Loading Images: 100%|█████████████████████| 3219/3219 [00:00<00:00, 7221.23it/s]\n",
      "Processing Rows: 100%|████████████████████████| 35/35 [00:00<00:00, 4457.42it/s]\n"
     ]
    },
    {
     "name": "stdout",
     "output_type": "stream",
     "text": [
      "Analyzing folder: /Users/donglinhan/LargeFiles/oviposition/ET101/ROI_19\n"
     ]
    },
    {
     "name": "stderr",
     "output_type": "stream",
     "text": [
      "Loading Images: 100%|█████████████████████| 3219/3219 [00:02<00:00, 1387.44it/s]\n",
      "Processing Rows: 100%|████████████████████████| 453/453 [02:14<00:00,  3.38it/s]\n"
     ]
    },
    {
     "name": "stdout",
     "output_type": "stream",
     "text": [
      "Analyzing folder: /Users/donglinhan/LargeFiles/oviposition/ET101/ROI_20\n"
     ]
    },
    {
     "name": "stderr",
     "output_type": "stream",
     "text": [
      "Loading Images: 100%|█████████████████████| 3219/3219 [00:02<00:00, 1195.20it/s]\n",
      "Processing Rows: 100%|████████████████████████| 444/444 [01:11<00:00,  6.25it/s]\n"
     ]
    },
    {
     "name": "stdout",
     "output_type": "stream",
     "text": [
      "Analyzing folder: /Users/donglinhan/LargeFiles/oviposition/ET101/ROI_21\n"
     ]
    },
    {
     "name": "stderr",
     "output_type": "stream",
     "text": [
      "Loading Images: 100%|█████████████████████| 3219/3219 [00:02<00:00, 1270.28it/s]\n",
      "Processing Rows: 100%|████████████████████████| 461/461 [01:28<00:00,  5.23it/s]\n"
     ]
    },
    {
     "name": "stdout",
     "output_type": "stream",
     "text": [
      "Analyzing folder: /Users/donglinhan/LargeFiles/oviposition/ET101/ROI_22\n"
     ]
    },
    {
     "name": "stderr",
     "output_type": "stream",
     "text": [
      "Loading Images: 100%|█████████████████████| 3219/3219 [00:02<00:00, 1138.57it/s]\n",
      "Processing Rows: 100%|████████████████████████| 460/460 [02:31<00:00,  3.03it/s]\n"
     ]
    },
    {
     "name": "stdout",
     "output_type": "stream",
     "text": [
      "Analyzing folder: /Users/donglinhan/LargeFiles/oviposition/ET101/ROI_23\n"
     ]
    },
    {
     "name": "stderr",
     "output_type": "stream",
     "text": [
      "Loading Images: 100%|██████████████████████| 3219/3219 [00:03<00:00, 956.05it/s]\n",
      "Processing Rows: 100%|████████████████████████| 474/474 [02:56<00:00,  2.68it/s]\n"
     ]
    },
    {
     "name": "stdout",
     "output_type": "stream",
     "text": [
      "Analyzing folder: /Users/donglinhan/LargeFiles/oviposition/ET101/ROI_24\n"
     ]
    },
    {
     "name": "stderr",
     "output_type": "stream",
     "text": [
      "Loading Images: 100%|█████████████████████| 3219/3219 [00:02<00:00, 1210.81it/s]\n",
      "Processing Rows: 100%|████████████████████████| 442/442 [01:56<00:00,  3.79it/s]\n"
     ]
    },
    {
     "name": "stdout",
     "output_type": "stream",
     "text": [
      "Processing complete. Images saved to '/Users/donglinhan/LargeFiles/oviposition/ET101/image_output' and results saved to '/Users/donglinhan/LargeFiles/oviposition/ET101/roi_analysis_results.xlsx'.\n"
     ]
    }
   ],
   "source": [
    "import os\n",
    "import pandas as pd\n",
    "import shutil\n",
    "import cv2\n",
    "import numpy as np\n",
    "import os\n",
    "import matplotlib.pyplot as plt\n",
    "from natsort import natsorted\n",
    "from scipy.signal import savgol_filter\n",
    "from tqdm import tqdm\n",
    "import pandas as pd\n",
    "\n",
    "def load_images(image_folder):\n",
    "    image_files = [img for img in os.listdir(image_folder) if img.endswith('.jpg')]\n",
    "    sorted_files = natsorted(image_files)\n",
    "    \n",
    "    images = []\n",
    "    for img in tqdm(sorted_files, desc=\"Loading Images\"):\n",
    "        images.append(cv2.imread(os.path.join(image_folder, img), cv2.IMREAD_GRAYSCALE))\n",
    "    \n",
    "    return np.array(images)\n",
    "\n",
    "def identify_darkness_with_windows(image_stack):\n",
    "    num_frames = image_stack.shape[0]\n",
    "    height, width = image_stack.shape[1:]\n",
    "\n",
    "    identified_pixels = []  # Store (x, y, B_start) for identified pixels\n",
    "\n",
    "    for y in tqdm(range(height), desc=\"Processing Rows\"):\n",
    "        for x in range(width):\n",
    "            intensity_profile = np.array(image_stack[:, y, x])\n",
    "            if np.mean(intensity_profile[:60]) > np.mean(intensity_profile[-60:]) + 10:\n",
    "                smoothed_profile = savgol_filter(intensity_profile, 15, 3)\n",
    "                for start in range(num_frames - 270):  # Ensure space for both A and B windows\n",
    "                    A = smoothed_profile[start:start+30]\n",
    "                    B = smoothed_profile[start+30:start+270]\n",
    "                    if np.sum(B < np.mean(A)) >= 240:\n",
    "                        if np.median(B[:30]) - np.median(B[180:]) > 15:\n",
    "                            if np.sum(smoothed_profile[start+270:] < np.median(B[120:240])) >= len(smoothed_profile[start+270:]) - 15:\n",
    "                                if np.median(B[0:15]) - np.median(B[45:60]) > 5:\n",
    "                                    if np.median (B[45:60]) - np.median(B[90:105]) > 2 and 5 > np.median(B[90:105]) - np.median(B[135:150]) > 2 and 5> np.median(B[135:150]) - np.median(B[180:195]) > 2 and 5> np.median(B[180:195]) - np.median(B[225:240]) > 2:\n",
    "                                        identified_pixels.append((x, y, start+30))\n",
    "                                        break\n",
    "\n",
    "    return identified_pixels\n",
    "    \n",
    "def filter_identified_pixels(identified_pixels, max_frame=2880):\n",
    "    return [pixel for pixel in identified_pixels if pixel[2] <= max_frame]\n",
    "\n",
    "def plot_identified_pixels_on_roi(image_stack, identified_pixels, folder_path):\n",
    "    # Take the first frame of the image stack to plot the identified pixels on it\n",
    "    first_frame = image_stack[0]\n",
    "    \n",
    "    # Create a figure and plot the image\n",
    "    plt.figure(figsize=(8, 8))\n",
    "    plt.imshow(first_frame, cmap='gray')\n",
    "    \n",
    "    # Overlay the identified pixels on the first frame (ROI coordinates)\n",
    "    for (x, y, _) in identified_pixels:\n",
    "        plt.scatter(x, y, color='red', s=10, label=\"Identified Pixel\" if x == identified_pixels[0][0] else \"\")\n",
    "\n",
    "    plt.title(\"Identified Pixels on ROI\")\n",
    "    plt.xlabel('Pixel X')\n",
    "    plt.ylabel('Pixel Y')\n",
    "    plt.legend([], [], frameon=False)\n",
    "    \n",
    "    # Save the figure as a PNG image\n",
    "    output_filename = os.path.join(folder_path, \"identified_pixels.png\")\n",
    "    plt.savefig(output_filename, format='png')\n",
    "    \n",
    "    # Close the plot to free up memory\n",
    "    plt.close()\n",
    "\n",
    "\n",
    "def analyze_roi_folder(folder_path):\n",
    "    \n",
    "    image_folder = folder_path\n",
    "    image_stack = load_images(image_folder)\n",
    "    identified_pixels = identify_darkness_with_windows(image_stack)\n",
    "    identified_pixels = filter_identified_pixels(identified_pixels, max_frame=2880)\n",
    "    plot_identified_pixels_on_roi(image_stack, identified_pixels, folder_path)\n",
    "    roi_onset_counts = {}\n",
    "    onset_frames = [pixel[2] for pixel in identified_pixels]\n",
    "    roi_onset_counts, _ = np.histogram(onset_frames, bins=range(0, image_stack.shape[0] + 60, 60))\n",
    "\n",
    "    return roi_onset_counts\n",
    "\n",
    "def process_roi_folders(base_folder):\n",
    "\n",
    "    image_output_folder = os.path.join(base_folder, \"image_output\")\n",
    "    os.makedirs(image_output_folder, exist_ok=True)\n",
    "    results = pd.DataFrame()\n",
    "\n",
    "    for roi_folder in natsorted([f for f in os.listdir(base_folder) if f.startswith(\"ROI_\") and os.path.isdir(os.path.join(base_folder, f))]):\n",
    "        roi_path = os.path.join(base_folder, roi_folder)\n",
    "        roi_id = roi_folder.split(\"_\")[1]\n",
    "\n",
    "        print(f\"Analyzing folder: {roi_path}\")\n",
    "        roi_onset_counts = analyze_roi_folder(roi_path)\n",
    "        results[roi_id] = pd.Series(roi_onset_counts)\n",
    "    \n",
    "    excel_output_path = os.path.join(base_folder, \"roi_analysis_results.xlsx\")\n",
    "    results.to_excel(excel_output_path, index=False)\n",
    "\n",
    "    print(f\"Processing complete. Images saved to '{image_output_folder}' and results saved to '{excel_output_path}'.\")\n",
    "\n",
    "if __name__ == \"__main__\":\n",
    "    # Hardcoded folder path\n",
    "    input_folder = \"/Users/donglinhan/LargeFiles/oviposition/ET101\"\n",
    "    process_roi_folders(input_folder)"
   ]
  },
  {
   "cell_type": "code",
   "execution_count": 4,
   "id": "b13e10cc-58f3-41d7-a70a-1f31e6680539",
   "metadata": {},
   "outputs": [
    {
     "name": "stdout",
     "output_type": "stream",
     "text": [
      "    ET015-15  ET015-18  ET015-24  ET011-20  ET015-10  ET015-6  ET015-17  \\\n",
      "0          0         0         0         0         0        0         0   \n",
      "1          0         0         0         0         0        0         0   \n",
      "2          0         0         0         0         0        0         0   \n",
      "3          0         0         0         0         0        0         0   \n",
      "4          0         0         0         0         0        0         0   \n",
      "..       ...       ...       ...       ...       ...      ...       ...   \n",
      "67         0         0         0         0         0        0         0   \n",
      "68         0         0         0         0         0        0         0   \n",
      "69         0         0         0         0         0        0         0   \n",
      "70         0         0         0         0         0        0         0   \n",
      "71         0         0         0         0         0        0         0   \n",
      "\n",
      "    ET015-14  ET011-18  ET015-4  ...  ET011-4  ET011-9  ET015-1  ET011-2  \\\n",
      "0          0         0        0  ...        0        0        0        0   \n",
      "1          0         0        0  ...        0        0        0        0   \n",
      "2          0         0        0  ...        0        0        0        0   \n",
      "3          0         0        0  ...        0        0        0        0   \n",
      "4          0         0        0  ...        0        0        0        0   \n",
      "..       ...       ...      ...  ...      ...      ...      ...      ...   \n",
      "67         0         0        0  ...        0        0        0        0   \n",
      "68         0         0        0  ...        0        0        0        0   \n",
      "69         0         0        0  ...        0        0        0        0   \n",
      "70         0         0        0  ...        0        0        0        0   \n",
      "71         0         0        0  ...        0        0        0        0   \n",
      "\n",
      "    ET015-22  ET011-3  ET015-9  ET011-1  ET015-11  ET015-8  \n",
      "0          0        0        0        0         0        0  \n",
      "1          0        0        0        0         0        0  \n",
      "2          0        0        0        0         0        0  \n",
      "3          0        0        0        0         0        0  \n",
      "4          0        0        0        0         0        0  \n",
      "..       ...      ...      ...      ...       ...      ...  \n",
      "67         0        0        0        0         0        0  \n",
      "68         0        0        0        0         0        0  \n",
      "69         0        0        0        0         0        0  \n",
      "70         0        0        0        0         0        0  \n",
      "71         0        0        0        0         0        0  \n",
      "\n",
      "[72 rows x 41 columns]\n"
     ]
    }
   ],
   "source": [
    "import pandas as pd\n",
    "\n",
    "# Step 1: Read the Excel sheet into a DataFrame\n",
    "file_path = '/Users/donglinhan/Desktop/EHyper2025/ET/ET_LVP_LONG.xlsx'  # Replace with your file path\n",
    "#sheet_name = 'Sheet1'  # Replace with your sheet name, if necessary\n",
    "df = pd.read_excel(file_path)\n",
    "\n",
    "# Step 2: Convert all non-zero values to 1 (binary conversion)\n",
    "binary_df = df.applymap(lambda x: 1 if x > 4 else 0)\n",
    "\n",
    "# Step 3: Calculate the median index of non-zero values for each column\n",
    "def median_nonzero_index(col):\n",
    "    nonzero_indices = col[col == 1].index\n",
    "    if len(nonzero_indices) > 0:\n",
    "        return nonzero_indices.to_series().median()\n",
    "    else:\n",
    "        return float('inf')  # Handle columns with no non-zero values\n",
    "\n",
    "median_indices = binary_df.apply(median_nonzero_index, axis=0)\n",
    "\n",
    "# Step 4: Sort the columns based on the median index of non-zero values\n",
    "sorted_columns = median_indices.sort_values().index\n",
    "sorted_df = binary_df[sorted_columns]\n",
    "\n",
    "# Save or print the result\n",
    "print(sorted_df)\n",
    "\n",
    "# Optionally, save the sorted DataFrame to a new Excel file\n",
    "sorted_df.to_excel('/Users/donglinhan/Desktop/EHyper2025/ET/sorted_ET_LVP_LONG.xlsx', index=False)"
   ]
  },
  {
   "cell_type": "code",
   "execution_count": 3,
   "id": "7789b7f1-8919-4d6c-b072-54951c9e790f",
   "metadata": {},
   "outputs": [
    {
     "data": {
      "image/png": "[encoded data removed]",
      "text/plain": [
       "<Figure size 1000x288 with 1 Axes>"
      ]
     },
     "metadata": {},
     "output_type": "display_data"
    }
   ],
   "source": [
    "import pandas as pd\n",
    "import matplotlib.pyplot as plt\n",
    "\n",
    "# Load the Excel file (replace with your actual file path)\n",
    "# file_path = '/Users/donglinhan/Desktop/EHyper2025/ET/REP/sorted_ET_LVP_LONG.xlsx'\n",
    "file_path = '/Users/donglinhan/Desktop/EHyper2025/ET/REP/ET_LEGENDS.xlsx'\n",
    "df = pd.read_excel(file_path, index_col=0)\n",
    "\n",
    "# Define time span\n",
    "time_span = (0, 96)  # Time span from 0 to 48 hours\n",
    "\n",
    "# Set up the plot\n",
    "fig, ax = plt.subplots(figsize=(10, len(df.columns) * 0.18))  # Adjust height based on number of individuals\n",
    "plt.rcParams[\"font.family\"] = \"Arial\"  # Set global font\n",
    "\n",
    "# Normalize marker sizes for clarity\n",
    "max_value = df.max().max()  # Get the maximum value in the dataset\n",
    "min_size, max_size = 1, 100  # Define min and max marker sizes\n",
    "\n",
    "# Loop through each column and plot numerical values as dots with sizes\n",
    "for idx, column in enumerate(df.columns):\n",
    "    event_times = df.index[df[column] > 0]  # Get indices where values are > 0\n",
    "    event_values = df[column][df[column] > 0]  # Extract corresponding values\n",
    "    \n",
    "    # Scale dot sizes based on numerical values\n",
    "    sizes = ((event_values / max_value) * (max_size - min_size)) + min_size  \n",
    "    \n",
    "    # Plot events with scaled dot sizes\n",
    "    ax.scatter(event_times, [idx] * len(event_times), marker='o', color='#27aae1', s=sizes, linewidths=0.5)\n",
    "\n",
    "\n",
    "# Set labels and limits\n",
    "ax.set_xlim(time_span)\n",
    "ax.set_yticks(range(len(df.columns)))\n",
    "ax.set_yticklabels(df.columns)  # Label individuals\n",
    "ax.set_xlabel('Time (hours)', fontsize=12)\n",
    "ax.set_ylabel('Individuals', fontsize=12)\n",
    "ax.set_title('Egg-laying events with scaled dot sizes', fontsize=14)\n",
    "\n",
    "# Adjust x-axis ticks\n",
    "xticks = [x for x in range(0, 97, 12)]  \n",
    "ax.set_xticks(xticks)\n",
    "ax.set_xticklabels([str(x) for x in xticks])\n",
    "\n",
    "# Remove frame (spines)\n",
    "for spine in ['top', 'right', 'left', 'bottom']:\n",
    "    ax.spines[spine].set_visible(False)\n",
    "\n",
    "# Save the plot\n",
    "# plt.savefig('/Users/donglinhan/Desktop/EHyper2025/ET/REP/LVP_LONG_scaled.svg', format='svg', bbox_inches='tight')\n",
    "plt.savefig('/Users/donglinhan/Desktop/EHyper2025/ET/REP/legends.svg', format='svg', bbox_inches='tight')\n",
    "# plt.savefig('/Users/donglinhan/Desktop/EHyper2025/ET/REP/LVP_LONG_scaled.png', format='png', dpi=300, bbox_inches='tight')\n",
    "\n",
    "plt.show()\n"
   ]
  },
  {
   "cell_type": "code",
   "execution_count": 1,
   "id": "2e20c2fa-01ce-4b8d-baa7-be83c0f65cb5",
   "metadata": {},
   "outputs": [],
   "source": [
    "import pandas as pd\n",
    "import numpy as np\n",
    "\n",
    "# Load both sheets\n",
    "activity_file_path = '/Users/donglinhan/Desktop/EHyper2025/ET/REP/REP_ACT_LVP_LONG.xlsx'\n",
    "activity_df = pd.read_excel(activity_file_path, index_col=0)\n",
    "egglay_file_path = '/Users/donglinhan/Desktop/EHyper2025/ET/REP/REP_ET_LVP_LONG.xlsx'\n",
    "egg_laying_df = pd.read_excel(egglay_file_path, index_col=0)\n",
    "\n",
    "# Function to compute weighted median egg-laying time\n",
    "def weighted_median(series):\n",
    "    times = np.arange(len(series))  # Time points (0 to 47 hours)\n",
    "    values = series.values  # Egg counts at each time point\n",
    "    \n",
    "    # Compute cumulative weight\n",
    "    cumulative_weights = np.cumsum(values)\n",
    "    total_weight = cumulative_weights[-1] if cumulative_weights[-1] > 0 else 1  # Avoid division by zero\n",
    "    \n",
    "    # Find the weighted median time\n",
    "    weighted_median_time = times[np.searchsorted(cumulative_weights, total_weight / 2)]\n",
    "    return weighted_median_time\n",
    "\n",
    "# Compute weighted median time for each column\n",
    "median_times = egg_laying_df.apply(weighted_median, axis=0)\n",
    "sorted_columns = median_times.sort_values().index\n",
    "\n",
    "# Apply sorting to both sheets\n",
    "egg_laying_sorted = egg_laying_df[sorted_columns]\n",
    "activity_sorted = activity_df[sorted_columns]  # Apply the same column order\n",
    "\n",
    "# Save sorted sheets back to Excel\n",
    "egg_laying_output_path = \"/Users/donglinhan/Desktop/EHyper2025/ET/REP/sorted_ET_LVP_LONG.xlsx\"\n",
    "activity_output_path = \"/Users/donglinhan/Desktop/EHyper2025/ET/REP/sorted_ACT_LVP_LONG.xlsx\"\n",
    "egg_laying_sorted.to_excel(egg_laying_output_path)\n",
    "activity_sorted.to_excel(activity_output_path)\n"
   ]
  },
  {
   "cell_type": "code",
   "execution_count": null,
   "id": "7d1a81e9-cc25-42c4-9908-47fe6333a6aa",
   "metadata": {},
   "outputs": [],
   "source": []
  }
 ],
 "metadata": {
  "kernelspec": {
   "display_name": "Python 3 (ipykernel)",
   "language": "python",
   "name": "python3"
  },
  "language_info": {
   "codemirror_mode": {
    "name": "ipython",
    "version": 3
   },
   "file_extension": ".py",
   "mimetype": "text/x-python",
   "name": "python",
   "nbconvert_exporter": "python",
   "pygments_lexer": "ipython3",
   "version": "3.10.12"
  }
 },
 "nbformat": 4,
 "nbformat_minor": 5
}
